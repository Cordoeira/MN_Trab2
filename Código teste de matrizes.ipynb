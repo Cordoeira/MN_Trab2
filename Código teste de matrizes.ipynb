{
 "cells": [
  {
   "cell_type": "code",
   "execution_count": 23,
   "id": "dace82c1",
   "metadata": {},
   "outputs": [
    {
     "name": "stdout",
     "output_type": "stream",
     "text": [
      "[[0 1 1]\n",
      " [1 1 1]\n",
      " [1 2 1]\n",
      " [1 1 1]\n",
      " [0 0 1]\n",
      " [1 0 0]]\n"
     ]
    }
   ],
   "source": [
    "import numpy as np\n",
    "\n",
    "# Define as dimensões da matriz\n",
    "linhas = 6\n",
    "colunas = 3\n",
    "\n",
    "# Cria uma matriz com distribuição aleatória de 0s e 1s\n",
    "matriz1 = np.random.randint(2, size=(linhas, colunas))\n",
    "\n",
    "matriz1[2,1] = 2\n",
    "\n",
    "# Imprime a matriz\n",
    "print(matriz1)"
   ]
  },
  {
   "cell_type": "code",
   "execution_count": 22,
   "id": "2fe64148",
   "metadata": {},
   "outputs": [
    {
     "name": "stdout",
     "output_type": "stream",
     "text": [
      "[[1 0 0]\n",
      " [1 0 0]\n",
      " [0 2 0]\n",
      " [1 0 1]\n",
      " [0 0 0]\n",
      " [0 0 0]]\n"
     ]
    }
   ],
   "source": [
    "if matriz1[1,1] == 0:\n",
    "    matriz2 = np.roll(matriz1, 1, axis=0)\n",
    "    matriz2[2,1]=2\n",
    "    matriz2[3,1]=0\n",
    "else:\n",
    "    if matriz1[2,0]==0:\n",
    "        if matriz1[1,0]==0:\n",
    "            matriz2=np.roll(matriz1, 1, axis=0)\n",
    "            matriz2[1,0] = 2\n",
    "            matriz2[2,1]=0\n",
    "print(matriz2)"
   ]
  },
  {
   "cell_type": "code",
   "execution_count": 19,
   "id": "5cfed81b",
   "metadata": {},
   "outputs": [
    {
     "name": "stdout",
     "output_type": "stream",
     "text": [
      "Matriz deslocada:\n",
      "[[1 0 0]\n",
      " [1 0 0]\n",
      " [0 2 0]\n",
      " [1 0 1]\n",
      " [0 0 0]\n",
      " [0 0 0]]\n"
     ]
    }
   ],
   "source": [
    "matriz2 = np.roll(matriz1, 1, axis=0)\n",
    "matriz2[2,1] = 2\n",
    "matriz2[3,1] = 0\n",
    "# Imprime a matriz deslocada\n",
    "print(\"Matriz deslocada:\")\n",
    "print(matriz2)"
   ]
  },
  {
   "cell_type": "code",
   "execution_count": null,
   "id": "e2338b76",
   "metadata": {},
   "outputs": [],
   "source": [
    "if matriz2[1,1] = 1:\n",
    "    if "
   ]
  }
 ],
 "metadata": {
  "kernelspec": {
   "display_name": "Python 3 (ipykernel)",
   "language": "python",
   "name": "python3"
  },
  "language_info": {
   "codemirror_mode": {
    "name": "ipython",
    "version": 3
   },
   "file_extension": ".py",
   "mimetype": "text/x-python",
   "name": "python",
   "nbconvert_exporter": "python",
   "pygments_lexer": "ipython3",
   "version": "3.10.10"
  }
 },
 "nbformat": 4,
 "nbformat_minor": 5
}
